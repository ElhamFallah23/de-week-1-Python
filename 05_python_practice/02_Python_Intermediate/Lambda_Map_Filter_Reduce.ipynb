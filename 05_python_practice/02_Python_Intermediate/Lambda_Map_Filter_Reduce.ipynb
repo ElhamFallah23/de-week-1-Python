{
 "cells": [
  {
   "cell_type": "markdown",
   "id": "6447ff73",
   "metadata": {},
   "source": [
    "## Introduction to The Python Intermediate\n"
   ]
  },
  {
   "cell_type": "markdown",
   "id": "4de11a19",
   "metadata": {},
   "source": [
    "## 1. Some Important Definations\n",
    "#### 1. Expressions  \n",
    " An expression is a combination of variables, values, and operators.\n",
    " Python Interpreter(CLI) evaluates the expression to get the values.\n",
    "\n",
    "#### 2. Statements  \n",
    " A statement is a piece of code that do some actions. The Python Interpreter executes the statements.\n",
    "\n",
    "#### 3. What is a Module?  \n",
    "  one of the core features in Python's modularity system is the module. A module is simply a .`py` file that contains Python code—definitions, functions, classes, or even executable statements. When this file is imported into another script using the import statement, its filename (excluding the .py extension) becomes the module's name in the new script's namespace.\n",
    "\n",
    "#### 4. What Does `if __name__ == \"__main__\":` Do in Python?\n",
    "\n",
    "A commonly encountered pattern in Python files is the if `__name__` == `\"__main__\"` block. This construct acts as an entry point to the script. When a Python file is executed directly, the interpreter sets the built-in `__name__` variable to `\"__main__\"`, allowing the enclosed code block to run. the `__name__` variable is set to the module’s actual name, and the code inside the if `__name__` == `\"__main__\"` block is not executed. This mechanism is useful for testing or demonstrating the functionality of a module without executing its internal logic on import.\n",
    "\n",
    "-  If the script is run directly, then `__name__` is set to \"`__main__`\".\n",
    "- If the script is imported as a module, then `__name__` is set to the module’s name."
   ]
  },
  {
   "cell_type": "code",
   "execution_count": 1,
   "id": "20cd618b",
   "metadata": {},
   "outputs": [
    {
     "name": "stdout",
     "output_type": "stream",
     "text": [
      "This will always execute\n",
      "This code runs only when executed directly\n",
      "Hello from the function\n"
     ]
    }
   ],
   "source": [
    "# file: module_test.py\n",
    "print(\"This will always execute\")\n",
    "\n",
    "def hello():\n",
    "    print(\"Hello from the function\")\n",
    "\n",
    "if __name__ == \"__main__\":\n",
    "    print(\"This code runs only when executed directly\")\n",
    "    hello()"
   ]
  },
  {
   "cell_type": "markdown",
   "id": "c069313c",
   "metadata": {},
   "source": [
    "## 2. What are Lambda Expressions? How do They Operate With Map, Filter, and Reduce?\n",
    "\n",
    "**Map(), Filter(), and Reduce() operate on lists. But if we want to use them properly, we're going to have to go through lambda expressions first.**\n",
    "\n",
    "### Lambda Expressions\n",
    "Lambda expressions are a concise way to create small, anonymous functions in Python. These functions are often used for short-lived operations or as inline arguments in higher-order functions such as `map()`, `filter()`, and `sorted()`.\n",
    "A **lambda function** can take **any number of arguments**, but it can only contain **a single expression**. This expression is evaluated and returned automatically—**explicit `return` statements are not allowed** within a lambda.\n",
    "\n",
    "\n",
    "<p align=\"center\">\n",
    "  <img src=\"assets/Lambda.png\" alt=\"alttext\" width=\"70%\" />\n",
    "</p>\n",
    "\n",
    "<p align=\"center\">\n",
    "Reference: Lambda function (Microsoft, n.d)\n",
    "</p>\n",
    "\n",
    "Because of their brevity, lambda functions are best suited for simple tasks that are used temporarily or in contexts where a full function definition would be excessive."
   ]
  },
  {
   "cell_type": "code",
   "execution_count": 2,
   "id": "99ab6a1f",
   "metadata": {},
   "outputs": [
    {
     "name": "stdout",
     "output_type": "stream",
     "text": [
      "15\n"
     ]
    }
   ],
   "source": [
    "x = lambda a : a + 10\n",
    "print(x(5))"
   ]
  },
  {
   "cell_type": "markdown",
   "id": "ebd796d8",
   "metadata": {},
   "source": [
    "#### A.Map()\n",
    "The `map()` function applies a given function to each item of an iterable (like a list) and returns a map object (which is an iterator). You typically wrap the result in `list()` to view the output.\n",
    "In the map() function, we can use both a normal and a lambda/Anonymous function. To look more Pythonic, we generally use a (lambda function) with map().\n",
    "```Python\n",
    "Syntax :- map(function, iterable or (list))\n",
    "```"
   ]
  },
  {
   "cell_type": "code",
   "execution_count": 1,
   "id": "a9ab1a73",
   "metadata": {},
   "outputs": [
    {
     "name": "stdout",
     "output_type": "stream",
     "text": [
      "[10, 12, 14, 16]\n"
     ]
    }
   ],
   "source": [
    "# Function to return double of n\n",
    "def double(n):\n",
    "    return n * 2\n",
    "\n",
    "# Using map to double all numbers\n",
    "numbers = [5, 6, 7, 8]\n",
    "result = map(double, numbers)\n",
    "print(list(result))\n",
    "# Output [10, 12, 14, 16]"
   ]
  },
  {
   "cell_type": "markdown",
   "id": "0c9d8953",
   "metadata": {},
   "source": [
    "#### B. Filter\n",
    "`Filter()` It is the same as the map() function, it also takes two arguments, first a function, and second an iterable object, and filters the given sequence with the help of a function that tests each element in the sequence to be true or not. \n",
    "**Example:**\n",
    "```Python \n",
    "Syntax :- filter( function, iterable_object(list,set etc))\n",
    "```\n",
    "**Parameters**:\n",
    "\n",
    "+ function: a function that tests if each element of a sequence is true or not.\n",
    "+ sequence: sequence which needs to be filtered, it can be sets, lists, tuples, or containers of any iterators.  \n",
    "\n",
    "\n"
   ]
  },
  {
   "cell_type": "code",
   "execution_count": 4,
   "id": "8009294a",
   "metadata": {},
   "outputs": [
    {
     "name": "stdout",
     "output_type": "stream",
     "text": [
      "[1, 1, 3, 5, 13, 21, 55]\n"
     ]
    }
   ],
   "source": [
    "# Define a list of numbers\n",
    "fibonacci = [0,1,1,2,3,5,8,13,21,34,55]\n",
    "odd_numbers = list(filter(lambda x: x % 2, fibonacci))\n",
    "print(odd_numbers)\n",
    "#Output ---[1, 1, 3, 5, 13, 21, 55]"
   ]
  },
  {
   "cell_type": "markdown",
   "id": "722b3fba",
   "metadata": {},
   "source": [
    "#### C. Reduce\n",
    "`reduce()` It is also the same as map() and filter(), but it returns only a single value or item. To use the reduce( ) function, you have to import it first from `functools` import reduce\n",
    "\n",
    "```Python \n",
    "Syntax : - reduce(function, iterable )\n",
    "```\n",
    "\n",
    "\n",
    "Example Calculating the sum of the numbers from 1 to 100:"
   ]
  },
  {
   "cell_type": "code",
   "execution_count": 5,
   "id": "740db733",
   "metadata": {},
   "outputs": [
    {
     "name": "stdout",
     "output_type": "stream",
     "text": [
      "21\n"
     ]
    }
   ],
   "source": [
    "from functools import reduce\n",
    " \n",
    "def add(x,y):\n",
    "    return x+y\n",
    " \n",
    "c = [1,2,3,4,5,6]\n",
    " \n",
    "total = reduce(add, c)\n",
    " \n",
    "print(total)\n",
    "# output: 21"
   ]
  },
  {
   "cell_type": "markdown",
   "id": "679759d5",
   "metadata": {},
   "source": [
    "To summarize, this can be understood the quickest with the following figure.\n",
    "<p align=\"center\">\n",
    "  <img src=\"assets/Reduce.png\" alt=\"alttext\" width=\"70%\" />\n",
    "</p>\n",
    "\n",
    "<p align=\"center\">\n",
    "Reference: Map(), Filter() and Reduce() (Dhaked, 2021)\n",
    "</p>\n"
   ]
  },
  {
   "cell_type": "markdown",
   "id": "d3fbe3e3",
   "metadata": {},
   "source": [
    "### Activity on Lambda, Map, Filter, Reduce\n",
    "\n",
    "You have a dataset of data points, each represented as a dictionary with keys like `id`, `value`, and `status`. Your task is to perform the following operations using lambda functions, map, filter, and sum (or reduce if desired).\n",
    "\n",
    "### Mock Dataset\n",
    "\n",
    "```python\n",
    "data_points = [\n",
    "    {'id': 1, 'value': 10, 'status': 'active'},\n",
    "    {'id': 2, 'value': 25, 'status': 'inactive'},\n",
    "    {'id': 3, 'value': 15, 'status': 'active'},\n",
    "    {'id': 4, 'value': 5, 'status': 'active'},\n",
    "    {'id': 5, 'value': 30, 'status': 'inactive'},\n",
    "    {'id': 6, 'value': 20, 'status': 'active'},\n",
    "    {'id': 7, 'value': 40, 'status': 'active'},\n",
    "    {'id': 8, 'value': 8, 'status': 'inactive'}\n",
    "]\n",
    "```\n",
    "\n",
    "### Question 1: Calculate Squares of Active Values\n",
    "\n",
    "* **Goal:** Extract the `value` of all data points where `status` is `'active'` and calculate the square of each.\n",
    "* **Hint:** Use `filter()` to select active items, then `map()` to square their values.\n",
    "\n",
    "### Question 2: Sum of Inactive Values\n",
    "\n",
    "* **Goal:** Calculate the sum of the `value` of all data points where `status` is `'inactive'`.\n",
    "* **Hint:** Use `filter()` to select inactive items, `map()` to extract values, then `sum()` to add them up (or `reduce()` if preferred).\n",
    "\n",
    "### Question 3: Transform and Categorize\n",
    "\n",
    "* **Goal:** Transform each data point into a dictionary containing `id` and a new key `category`. Categorize `value` as `'low'` (<15), `'medium'` (15-29), or `'high'` (>=30).\n",
    "* **Hint:** Use `map()` with a lambda function to create the new dictionaries. Optionally, use `filter()` to select specific categories if needed.\n"
   ]
  },
  {
   "cell_type": "code",
   "execution_count": 5,
   "id": "d43dd87d",
   "metadata": {},
   "outputs": [
    {
     "name": "stdout",
     "output_type": "stream",
     "text": [
      "Squared active values: [100, 225, 25, 400, 1600]\n",
      "Total sum of inactive values: 63\n",
      "Categorized data: [{'id': 1, 'category': 'low'}, {'id': 2, 'category': 'medium'}, {'id': 3, 'category': 'medium'}, {'id': 4, 'category': 'low'}, {'id': 5, 'category': 'high'}, {'id': 6, 'category': 'medium'}, {'id': 7, 'category': 'high'}, {'id': 8, 'category': 'low'}]\n"
     ]
    }
   ],
   "source": [
    "# Answers to the Activity Questions\n",
    "# Mock Dataset\n",
    "data_points = [\n",
    "    {'id': 1, 'value': 10, 'status': 'active'},\n",
    "    {'id': 2, 'value': 25, 'status': 'inactive'},\n",
    "    {'id': 3, 'value': 15, 'status': 'active'},\n",
    "    {'id': 4, 'value': 5, 'status': 'active'},\n",
    "    {'id': 5, 'value': 30, 'status': 'inactive'},\n",
    "    {'id': 6, 'value': 20, 'status': 'active'},\n",
    "    {'id': 7, 'value': 40, 'status': 'active'},\n",
    "    {'id': 8, 'value': 8, 'status': 'inactive'}\n",
    "]\n",
    "\n",
    "# Question 1: Calculate Squares of Active Values\n",
    "squared_active_values = list(map(lambda x: x['value']**2, filter(lambda x: x['status'] == 'active', data_points)))\n",
    "print(\"Squared active values:\", squared_active_values)\n",
    "\n",
    "# Question 2: Sum of Inactive Values\n",
    "total_inactive_sum = sum(map(lambda x: x['value'], filter(lambda x: x['status'] == 'inactive', data_points)))\n",
    "print(\"Total sum of inactive values:\", total_inactive_sum)\n",
    "\n",
    "# Question 3: Transform and Categorize\n",
    "categorized_data = list(map(lambda x: {'id': x['id'], 'category': 'low' if x['value'] < 15 else 'medium' if x['value'] < 30 else 'high'}, data_points))\n",
    "print(\"Categorized data:\", categorized_data)\n"
   ]
  },
  {
   "cell_type": "markdown",
   "id": "737e2305",
   "metadata": {},
   "source": []
  }
 ],
 "metadata": {
  "kernelspec": {
   "display_name": "Python 3",
   "language": "python",
   "name": "python3"
  },
  "language_info": {
   "codemirror_mode": {
    "name": "ipython",
    "version": 3
   },
   "file_extension": ".py",
   "mimetype": "text/x-python",
   "name": "python",
   "nbconvert_exporter": "python",
   "pygments_lexer": "ipython3",
   "version": "3.11.13"
  }
 },
 "nbformat": 4,
 "nbformat_minor": 5
}
