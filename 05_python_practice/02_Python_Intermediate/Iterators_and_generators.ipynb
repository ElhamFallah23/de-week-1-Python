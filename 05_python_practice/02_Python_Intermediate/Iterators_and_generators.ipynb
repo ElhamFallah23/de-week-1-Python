{
 "cells": [
  {
   "cell_type": "markdown",
   "id": "72814dcb",
   "metadata": {},
   "source": [
    "##  6. Introduction to Generators & Iterators in Python\n",
    "\n",
    "In Python, many tasks involve **repeating a process over a collection of data**—this is known as **iteration**. Whether you're looping through a list of names or calculating square numbers, understanding **iterators** and **generators** is essential for writing efficient, Pythonic code.\n",
    "\n",
    "\n",
    "### **What is Iteration?**\n",
    "\n",
    "- **Iteration** is the process of executing a block of code repeatedly—typically using loops like `for` or `while`.  \n",
    "If a loop runs 6 times, we say the block **iterated 6 times**. Behind the scenes, Python makes this work using **iterators** and **iterable objects**.\n",
    "\n",
    "\n",
    "#### **Iterators in Python**\n",
    "\n",
    "- An **iterator** is an object that allows you to traverse through all the elements of a **collection (like lists, tuples, sets, etc.)**, **one item at a time**.\n",
    "\n",
    "#### **Key Characteristics:**\n",
    "- **Implements** two methods: `__iter__()` and `__next__()`.\n",
    "- Uses **lazy evaluation**: values are computed only when requested.\n",
    "- Efficient for handling **large datasets**, since it doesn't load everything into memory.\n",
    "\n",
    "#### **Built-in Iterator Functions:**\n",
    "- `iter()` – Converts an iterable (e.g., list, string) into an iterator.\n",
    "- `next()` – Fetches the next item from an iterator.\n"
   ]
  },
  {
   "cell_type": "code",
   "execution_count": null,
   "id": "f2f8ff43",
   "metadata": {},
   "outputs": [],
   "source": [
    "numbers = [10, 20, 30]\n",
    "it = iter(numbers)\n",
    "\n",
    "print(next(it))  # 10\n",
    "print(next(it))  # 20\n",
    "print(next(it))  # 30"
   ]
  },
  {
   "cell_type": "markdown",
   "id": "de7fa701",
   "metadata": {},
   "source": [
    "### **What are Generators in Python?**\n",
    "\n",
    "A **generator** is a simpler way to create iterators using a function with the `yield` keyword.\n",
    "\n",
    "Generators also support **lazy evaluation** and generate values on the fly rather than storing the entire sequence in memory. This makes them ideal for working with **large** or **infinite** sequences\n",
    "\n",
    "#### **Advantages of Generators**  \n",
    "- **Memory Efficient:** Doesn't load the entire sequence into memory.\n",
    "\n",
    "- **Convenient**: Cleaner syntax than implementing an iterator class.\n",
    "\n",
    "- **Infinite Sequences:** Useful for generating infinite data streams (like Fibonacci numbers, primes, etc.).\n",
    "\n",
    "\n",
    "\n",
    "#### **Key Differences Between `return` and `yield`**\n",
    "\n",
    "- **`return`** ends a function entirely.\n",
    "- **`yield`** pauses the function and saves its state, allowing it to resume from where it left off.\n",
    "\n",
    "#### **Example of a Generator**\n"
   ]
  },
  {
   "cell_type": "code",
   "execution_count": 1,
   "id": "f401e2f0",
   "metadata": {},
   "outputs": [
    {
     "name": "stdout",
     "output_type": "stream",
     "text": [
      "The square of numbers 1, 2, 3 are:\n",
      "1\n",
      "4\n",
      "9\n"
     ]
    }
   ],
   "source": [
    "def sq_numbers(n):\n",
    "    for i in range(1, n + 1):\n",
    "        yield i * i\n",
    "\n",
    "a = sq_numbers(3)\n",
    "\n",
    "print(\"The square of numbers 1, 2, 3 are:\")\n",
    "print(next(a))  # 1\n",
    "print(next(a))  # 4\n",
    "print(next(a))  # 9"
   ]
  },
  {
   "cell_type": "markdown",
   "id": "588ed7bf",
   "metadata": {},
   "source": [
    "### **When to Use Iterators vs Generators**\n",
    "- Use iterators when working with existing iterable data structures and you need custom iteration behavior.\n",
    "\n",
    "- Use generators when you want to define an iterable sequence with minimal code and without storing all values in memory.\n"
   ]
  },
  {
   "cell_type": "markdown",
   "id": "5abd3e15",
   "metadata": {},
   "source": []
  }
 ],
 "metadata": {
  "kernelspec": {
   "display_name": "Python 3",
   "language": "python",
   "name": "python3"
  },
  "language_info": {
   "codemirror_mode": {
    "name": "ipython",
    "version": 3
   },
   "file_extension": ".py",
   "mimetype": "text/x-python",
   "name": "python",
   "nbconvert_exporter": "python",
   "pygments_lexer": "ipython3",
   "version": "3.11.13"
  }
 },
 "nbformat": 4,
 "nbformat_minor": 5
}
