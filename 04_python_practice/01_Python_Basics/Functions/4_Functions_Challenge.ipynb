{
 "cells": [
  {
   "attachments": {},
   "cell_type": "markdown",
   "metadata": {},
   "source": [
    "# Challenge"
   ]
  },
  {
   "attachments": {},
   "cell_type": "markdown",
   "metadata": {},
   "source": [
    "## Instructions "
   ]
  },
  {
   "attachments": {},
   "cell_type": "markdown",
   "metadata": {},
   "source": [
    "For this assignment you'll be working through solving more problems by building functions from scratch. \n",
    "\n",
    "\n",
    "For each problem, you should build a function into your solution. We will build each function into it's own cell, and then call it with some arguments in the next cell right after you define it. "
   ]
  },
  {
   "attachments": {},
   "cell_type": "markdown",
   "metadata": {},
   "source": [
    "For example, pretend all of the following is the solution to one of the problems, written in a function first and then called (for testing purposes) below. \n",
    "\n",
    "```python \n",
    "def my_func(param1, param2, param3): \n",
    "    # Function code to solve the problem\n",
    "\n",
    "print(my_func(param11, param21, param31))\n",
    "print(my_func(param12, param22, param32))\n",
    "print(my_func(param13, param23, param33))\n",
    "print(my_func(param14, param24, param34))\n",
    "print(my_func(param15, param25, param35))\n",
    "```\n",
    "\n",
    "Note above that `my_func` is called five times after it's definition. \n",
    "\n",
    "\n",
    "These tests should check that `my_func` works correctly with different sets of arguments. You should aim to test your functions at least 5 times after you write them. It's good to try to think of tests that your function might not solve correctly (we call these **edge cases**). Not only does thinking like this help you solve the problem, but it also gives you more faith in your solution."
   ]
  },
  {
   "attachments": {},
   "cell_type": "markdown",
   "metadata": {},
   "source": [
    "## Assignment Questions "
   ]
  },
  {
   "attachments": {},
   "cell_type": "markdown",
   "metadata": {},
   "source": [
    "### Part 1 - Basic Practice "
   ]
  },
  {
   "attachments": {},
   "cell_type": "markdown",
   "metadata": {},
   "source": [
    "For the first part of the assignment, we're going to get some practice taking something we've already written and translating it to a function. In continuation of prior assignments, \n",
    "\n",
    "1. Write a function that computes the factorial for an inputted number.  \n",
    "2. Write a function that determines whether or not an inputted number is prime, and then prints 'The number you inputted is a prime/ not a prime number.' depending on what your script finds (note that this means putting a `print` in front of the function when testing it will be redundant for this case). \n",
    "\n"
   ]
  },
  {
   "cell_type": "code",
   "execution_count": 29,
   "metadata": {},
   "outputs": [
    {
     "data": {
      "text/plain": [
       "24"
      ]
     },
     "execution_count": 29,
     "metadata": {},
     "output_type": "execute_result"
    }
   ],
   "source": [
    "def factorial(n):\n",
    "    if n>1: \n",
    "        return factorial(n-1) * n\n",
    "    else: \n",
    "        return 1\n",
    "\n",
    "factorial(4)"
   ]
  },
  {
   "cell_type": "code",
   "execution_count": 110,
   "metadata": {},
   "outputs": [
    {
     "name": "stdout",
     "output_type": "stream",
     "text": [
      "The number is not a prime number\n"
     ]
    }
   ],
   "source": [
    "def prim(n): \n",
    "    mul = [num for num in range(1, n+1) if n%num == 0]\n",
    "    if len(mul) > 2:\n",
    "        return False\n",
    "    else:\n",
    "        return True\n",
    "\n",
    "\n",
    "if prim(9):\n",
    "    print('The number is a prime number')\n",
    "else:\n",
    "    print('The number is not a prime number')\n",
    "    "
   ]
  },
  {
   "attachments": {},
   "cell_type": "markdown",
   "metadata": {},
   "source": [
    "### Part 2 - Advanced Practice \n",
    "\n"
   ]
  },
  {
   "attachments": {},
   "cell_type": "markdown",
   "metadata": {},
   "source": [
    "Now we're going to push our problem solving and programming skills even further by coding up functions to solve new problems. For each of the problems below, I would suggest coding it up in a similar way to how you did the other two (building the function, and then calling it some number of times (5) to test it out after that). \n",
    "\n",
    "1. Write a function that counts the number of words in an inputted string, where we consider words to be separated by spaces. \n",
    "2. Write a function that counts the number of words in an inputted string, where we consider words to be separated by a specified delimiter (so your function should accept two arguments, one for the string and one for the delimiter) and a space is defined as the default delimiter.  \n",
    "3. Write a function that takes in a string, and returns a list that holds the length of each word in the phrase, separated by an inputted delimiter (so you're function should accept two arguments again). Make a space the default delimiter like you did in `2`. For example, if the arguments to your function were `This is a test string` (and nothing else), your function should return `[4, 2, 1, 4, 6]`. Go ahead and don't worry about removing punctuation (you can include it in the word length - e.g. \"this.\" has five letters, if we count the period). \n",
    "4. Write a function that returns all the prime numbers up to an inputted number (**Hint**: It might be helpful to use/modify the prime function you wrote earlier).    \n",
    "5. Write a function that takes in a list of numbers, as well as an additional number (i.e. two arguments), and returns a list of `yes` or `no` depending on whether each number in the list is divisible by the second number. For example, if I input `[10, 25, 36, 12, 20]` as the list of numbers, and `5` as the additional number, your function should return `['yes', 'yes', 'no', 'no', 'yes']`.\n",
    "6. Write a function that takes in a list of strings, as well as an inputted letter (which looks like a string with a single character), and returns a list of only those strings from the input list that end with that letter. For example, if I input `['I', 'am', 'in', 'love', 'with', 'Python']` as the list of strings, and `n` as the inputted letter, your function should return `['in', 'Python']`.\n",
    "7. Write a function that takes in a list of strings, as well as an inputted substring (i.e. another string), and returns a list of the indices of the strings that contain that inputted substring. For example, if I input `['This', 'is, 'an' , 'example']` as the list of strings, and `is` as the substring, your function should return `[0, 1]`.\n",
    "\n",
    " "
   ]
  },
  {
   "cell_type": "code",
   "execution_count": null,
   "metadata": {},
   "outputs": [
    {
     "data": {
      "text/plain": [
       "11"
      ]
     },
     "execution_count": 37,
     "metadata": {},
     "output_type": "execute_result"
    }
   ],
   "source": [
    "def word_count(str_input):\n",
    "    return len(str_input.split())\n",
    "\n",
    "x = 'Today is a rainy cold witer day.'\n",
    "word_count(x)"
   ]
  },
  {
   "cell_type": "code",
   "execution_count": 61,
   "metadata": {},
   "outputs": [
    {
     "data": {
      "text/plain": [
       "9"
      ]
     },
     "execution_count": 61,
     "metadata": {},
     "output_type": "execute_result"
    }
   ],
   "source": [
    "def word_count(str_input, delim=' '):\n",
    "    return len(str_input.split(delim))\n",
    "\n",
    "x = 'Today is a rainy cold winter day.'\n",
    "y = \"As&an&example,&let's&say&my &tax &info &is\"\n",
    "word_count(y, '&')"
   ]
  },
  {
   "cell_type": "code",
   "execution_count": 63,
   "metadata": {},
   "outputs": [
    {
     "data": {
      "text/plain": [
       "[5, 2, 1, 5, 4, 6, 4]"
      ]
     },
     "execution_count": 63,
     "metadata": {},
     "output_type": "execute_result"
    }
   ],
   "source": [
    "def character_counter_words(str_input, delim= ' '):\n",
    "    return [len(itm) for itm in str_input.split(delim)]\n",
    "\n",
    "character_counter_words(x)"
   ]
  },
  {
   "cell_type": "code",
   "execution_count": 113,
   "metadata": {},
   "outputs": [
    {
     "name": "stdout",
     "output_type": "stream",
     "text": [
      "The number is not a prime number.\n"
     ]
    }
   ],
   "source": [
    "def prim(n): \n",
    "    mul = [num for num in range(1, n+1) if n%num == 0]\n",
    "    if len(mul) > 2:\n",
    "        return False\n",
    "    else:\n",
    "        return n\n",
    "\n",
    "\n",
    "if prim(9):\n",
    "    print('The number is a prime number.')\n",
    "else:\n",
    "    print('The number is not a prime number.')\n",
    "    \n"
   ]
  },
  {
   "cell_type": "code",
   "execution_count": 115,
   "metadata": {},
   "outputs": [
    {
     "name": "stdout",
     "output_type": "stream",
     "text": [
      "[1, 2, 3, 5, 7, 11, 13, 17, 19]\n"
     ]
    }
   ],
   "source": [
    "n = 21\n",
    "print( [prim(itm) for itm in range(1,n) if prim(itm)] ) \n"
   ]
  },
  {
   "cell_type": "code",
   "execution_count": 128,
   "metadata": {},
   "outputs": [
    {
     "data": {
      "text/plain": [
       "'divisor is zero.'"
      ]
     },
     "execution_count": 128,
     "metadata": {},
     "output_type": "execute_result"
    }
   ],
   "source": [
    "def divis(lst, divi):\n",
    "    if divi != 0:\n",
    "        result = ['No' if itm % param else 'Yes' for itm in my_lst ] \n",
    "        return result\n",
    "    return ('divisor is zero.')\n",
    "\n",
    "\n",
    "divisor =0\n",
    "my_lst = [20, 76, 80, 58, 90, 34, 45, 71]\n",
    "divis(my_lst, divisor)"
   ]
  },
  {
   "cell_type": "code",
   "execution_count": 149,
   "metadata": {},
   "outputs": [
    {
     "data": {
      "text/plain": [
       "['sure', 'rule', 'share', 'sale']"
      ]
     },
     "execution_count": 149,
     "metadata": {},
     "output_type": "execute_result"
    }
   ],
   "source": [
    "def word_end_char(lst_str, char):\n",
    "    if lst_str != []: \n",
    "        return [itm for itm in lst_str if itm.endswith(char)]\n",
    "    return 'you enterned nothing.'\n",
    "    \n",
    "\n",
    "inp_string = ['I', 'am', 'in', 'love', 'with', 'Python']\n",
    "inp_string = ['sure','today', 'rule', 'share', 'sale', '']\n",
    "char = 'e'\n",
    "word_end_char(inp_string,char)"
   ]
  },
  {
   "cell_type": "code",
   "execution_count": null,
   "metadata": {},
   "outputs": [
    {
     "data": {
      "text/plain": [
       "[0, 1]"
      ]
     },
     "execution_count": 159,
     "metadata": {},
     "output_type": "execute_result"
    }
   ],
   "source": [
    "def substring(lst_str, word):\n",
    "    if lst_str != [] and word!=[]: \n",
    "        return [i for i, itm in enumerate(lst_str) if word in itm]\n",
    "    return 'your String or substing is nothing'\n",
    "\n",
    "\n",
    "\n",
    "inp_string =   ['This', 'is', 'an' , 'example']\n",
    "my_word = 'is'\n",
    "substring(inp_string, my_word)\n"
   ]
  },
  {
   "attachments": {},
   "cell_type": "markdown",
   "metadata": {},
   "source": [
    "### Extra Challenge\n",
    "\n",
    "\n",
    "### Extra Challenge\n",
    "\n",
    "1. Let's build a calculator for figuring out how much I owe in taxes (and by calculator, I mean function). Write a function that takes in a list of tuples, where each tuple contains two values, as well as an income to compute the taxes on (so your function should accept two arguments). For the tuple list, the first value of a tuple will be an income upper bound, and the second will be a tax rate for all income up to the given income bound. You need to build a calculator that will calculate the tax for all income up to each income bound (if it goes up that high) for the given tax rate. You can assume that the list of tuples will be sorted by the income bound (e.g. the first value in the tuple), such that the lowest income bound will be first, and the highest last (see below for an example).  \n",
    "\n",
    " As an example, let's say my tax info is `[(50000, 0.08), (100000, 0.10), (150000, 0.15)]`. This means that the first 50k of income is taxed at 8%, the second 50k at 10%, and the rest at 15% (note here that any income that comes after the 150k is taxed at 15%. Therefore, giving a highest upper bound is misleading because everything above 100k will be taxed at 15%). So, if the inputted income was 170k, then my taxes would be \n",
    " \n",
    " 50 * 0.08 + 50 * 0.10 + 70 * 0.15 = 19.5k. \n",
    " \n",
    " And if the inputted income was 70k, then my taxes would be\n",
    "\n",
    " \n",
    " 50 * 0.08 + 20 * 0.10 = 6k. \n",
    " \n",
    " You should write your function to be generalized and accept any kind of list of tuples and any inputted income (so it'll accept two arguments).  \n",
    "\n",
    "2. Now modify your solution to accept a list of tuples that is not sorted by the income bound. \n",
    "\n",
    " **Hint**: Trying using the `sorted` function and working with the `key` argument (a [lambda](https://www.educative.io/blog/python-lambda-functions-tutorial) function will probably be helpful here). "
   ]
  },
  {
   "cell_type": "markdown",
   "metadata": {},
   "source": []
  }
 ],
 "metadata": {
  "kernelspec": {
   "display_name": "Python 3",
   "language": "python",
   "name": "python3"
  },
  "language_info": {
   "codemirror_mode": {
    "name": "ipython",
    "version": 3
   },
   "file_extension": ".py",
   "mimetype": "text/x-python",
   "name": "python",
   "nbconvert_exporter": "python",
   "pygments_lexer": "ipython3",
   "version": "3.9.6"
  },
  "toc": {
   "base_numbering": 1,
   "nav_menu": {},
   "number_sections": true,
   "sideBar": true,
   "skip_h1_title": false,
   "title_cell": "Table of Contents",
   "title_sidebar": "Contents",
   "toc_cell": false,
   "toc_position": {},
   "toc_section_display": true,
   "toc_window_display": false
  },
  "varInspector": {
   "cols": {
    "lenName": 16,
    "lenType": 16,
    "lenVar": 40
   },
   "kernels_config": {
    "python": {
     "delete_cmd_postfix": "",
     "delete_cmd_prefix": "del ",
     "library": "var_list.py",
     "varRefreshCmd": "print(var_dic_list())"
    },
    "r": {
     "delete_cmd_postfix": ") ",
     "delete_cmd_prefix": "rm(",
     "library": "var_list.r",
     "varRefreshCmd": "cat(var_dic_list()) "
    }
   },
   "types_to_exclude": [
    "module",
    "function",
    "builtin_function_or_method",
    "instance",
    "_Feature"
   ],
   "window_display": false
  }
 },
 "nbformat": 4,
 "nbformat_minor": 4
}
