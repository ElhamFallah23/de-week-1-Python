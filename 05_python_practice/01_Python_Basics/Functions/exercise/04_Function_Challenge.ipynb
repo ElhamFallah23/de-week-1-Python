{
 "cells": [
  {
   "cell_type": "markdown",
   "id": "7d01f11e-4313-46e1-ad80-484cfb32a312",
   "metadata": {},
   "source": [
    "# 4) Functions Challenge — Capstone Exercises\n",
    "\n",
    "**Goals:** design small, reusable functions; pass functions around; safe defaults; error handling; docstrings & tests; gluing pieces into a mini pipeline.\n",
    "\n",
    "You can solve these by composing helpers you wrote earlier.\n",
    "\n",
    "### A) Mini ETL: transactions → daily totals\n",
    "\n",
    "Input: CSV lines like:\n",
    "\n",
    "```\n",
    "2025-08-01,alice,+10.50\n",
    "2025-08-01,alice,-2\n",
    "2025-08-02,bob,+5\n",
    "bad,line\n",
    "```\n",
    "\n",
    "Produce: `{\"2025-08-01\": {\"alice\": 8.5}, \"2025-08-02\": {\"bob\": 5.0}}`\n",
    "\n",
    "```python\n",
    "def parse_line(line):\n",
    "    \"\"\"\n",
    "    Return (date, user, amount_float) or None if invalid.\n",
    "    Amount may have '+' or '-' sign; spaces allowed.\n",
    "    \"\"\"\n",
    "    ...\n",
    "def accumulate(lines):\n",
    "    \"\"\"\n",
    "    Use parse_line; return nested dict date->{user: total}.\n",
    "    \"\"\"\n",
    "    ...\n",
    "lines = [\"2025-08-01,alice,+10.50\",\"2025-08-01,alice,-2\",\"2025-08-02,bob,+5\",\"bad,line\"]\n",
    "out = accumulate(lines)\n",
    "assert out == {\"2025-08-01\":{\"alice\":8.5}, \"2025-08-02\":{\"bob\":5.0}}\n",
    "```\n",
    "\n",
    "### B) Validation + normalization + mapping\n",
    "\n",
    "```python\n",
    "def normalize_user(name, email):\n",
    "    \"\"\"\n",
    "    Return dict {'name': 'Title Case', 'email': lower} or raise ValueError.\n",
    "    \"\"\"\n",
    "    ...\n",
    "def map_users(rows, *, validator=normalize_user):\n",
    "    \"\"\"\n",
    "    rows: list of (name,email). Use validator to normalize each; skip invalid.\n",
    "    \"\"\"\n",
    "    ...\n",
    "rows = [(\" ada lovelace \",\"ADA@EXAMPLE.COM\"), (\"bad\",\"noats\")]\n",
    "ok = map_users(rows)\n",
    "assert ok == [{\"name\":\"Ada Lovelace\",\"email\":\"ada@example.com\"}]\n",
    "```\n"
   ]
  }
 ],
 "metadata": {
  "kernelspec": {
   "display_name": "Python 3 (ipykernel)",
   "language": "python",
   "name": "python3"
  },
  "language_info": {
   "codemirror_mode": {
    "name": "ipython",
    "version": 3
   },
   "file_extension": ".py",
   "mimetype": "text/x-python",
   "name": "python",
   "nbconvert_exporter": "python",
   "pygments_lexer": "ipython3",
   "version": "3.12.8"
  }
 },
 "nbformat": 4,
 "nbformat_minor": 5
}
